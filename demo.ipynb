{
 "cells": [
  {
   "cell_type": "code",
   "execution_count": 1,
   "metadata": {},
   "outputs": [
    {
     "name": "stdout",
     "output_type": "stream",
     "text": [
      "Kike's turn\n",
      "Your hole cards: 8♦️ Q♣️\n",
      "The board: [None, None, None, None, None]\n",
      "The status: GamePhase: Pre Flop, Current player: 0, Bets: [5, 10], Players money: [995, 990]\n",
      "Kike's turn\n",
      "Your hole cards: 8♦️ Q♣️\n",
      "The board: [None, None, None, None, None]\n",
      "The status: GamePhase: Pre Flop, Current player: 0, Bets: [10, 20], Players money: [990, 980]\n",
      "Kike's turn\n",
      "Your hole cards: 8♦️ Q♣️\n",
      "The board: [9♦️, 5♥️, 9♣️, None, None]\n",
      "The status: GamePhase: Flop, Current player: 0, Bets: [20, 20], Players money: [980, 980]\n",
      "Kike's turn\n",
      "Your hole cards: 8♦️ Q♣️\n",
      "The board: [9♦️, 5♥️, 9♣️, Q♠️, None]\n",
      "The status: GamePhase: Turn, Current player: 0, Bets: [20, 20], Players money: [980, 980]\n",
      "Kike's turn\n",
      "Your hole cards: 8♦️ Q♣️\n",
      "The board: [9♦️, 5♥️, 9♣️, Q♠️, None]\n",
      "The status: GamePhase: Turn, Current player: 0, Bets: [20, 40], Players money: [980, 960]\n",
      "Kike's turn\n",
      "Your hole cards: 8♦️ Q♣️\n",
      "The board: [9♦️, 5♥️, 9♣️, Q♠️, None]\n",
      "The status: GamePhase: Turn, Current player: 0, Bets: [60, 110], Players money: [940, 890]\n",
      "Kike's turn\n",
      "Your hole cards: 8♦️ Q♣️\n",
      "The board: [9♦️, 5♥️, 9♣️, Q♠️, 6♦️]\n",
      "The status: GamePhase: River, Current player: 0, Bets: [110, 110], Players money: [890, 890]\n",
      "Kike's turn\n",
      "Your hole cards: 8♦️ Q♣️\n",
      "The board: [9♦️, 5♥️, 9♣️, Q♠️, 6♦️]\n",
      "The status: GamePhase: River, Current player: 0, Bets: [110, 220], Players money: [890, 780]\n",
      "Kike's turn\n",
      "Your hole cards: 8♦️ Q♣️\n",
      "The board: [9♦️, 5♥️, 9♣️, Q♠️, 6♦️]\n",
      "The opponent's hole cards: Q♦️ 4♦️\n",
      "The status: GamePhase: Showdown, Current player: 0, Bets: [220, 220], Players money: [780, 780]\n",
      "Summary:\n",
      "Kike won 220!\n"
     ]
    }
   ],
   "source": [
    "from player import ConsolePlayer\n",
    "from basic_decider import BasicDecisionMaker\n",
    "from game import Game\n",
    "\n",
    "name = input('Enter your name: ').strip()\n",
    "while len(name) == 0 or len(name) > 20:\n",
    "    if len(name) == 0: print('Name cannot be empty.')\n",
    "    else: print('Name cannot be longer than 20 characters.')\n",
    "    name = input('Enter your name: ').strip()\n",
    "    \n",
    "player1 = ConsolePlayer(name)\n",
    "see_bot_evaluations = False\n",
    "player2 = BasicDecisionMaker('Bot', verbose=see_bot_evaluations)\n",
    "game = Game(player1, player2)\n",
    "game.play_round()"
   ]
  }
 ],
 "metadata": {
  "kernelspec": {
   "display_name": "Python 3",
   "language": "python",
   "name": "python3"
  },
  "language_info": {
   "codemirror_mode": {
    "name": "ipython",
    "version": 3
   },
   "file_extension": ".py",
   "mimetype": "text/x-python",
   "name": "python",
   "nbconvert_exporter": "python",
   "pygments_lexer": "ipython3",
   "version": "3.12.8"
  }
 },
 "nbformat": 4,
 "nbformat_minor": 2
}
