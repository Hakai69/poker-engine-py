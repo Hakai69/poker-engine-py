{
 "cells": [
  {
   "cell_type": "markdown",
   "metadata": {},
   "source": [
    "# Poker Combinatorics\n",
    "\n",
    "Since this part of the project was taking a long while we thought of documenting it."
   ]
  },
  {
   "cell_type": "markdown",
   "metadata": {},
   "source": [
    "Until we venture into calculating number of cases in different states we should get the basic initial combinatorics down, they may be used as a template for further calculations and it supposedly less complex."
   ]
  },
  {
   "cell_type": "code",
   "execution_count": 1,
   "metadata": {},
   "outputs": [],
   "source": [
    "from math import comb"
   ]
  },
  {
   "cell_type": "code",
   "execution_count": 3,
   "metadata": {},
   "outputs": [
    {
     "data": {
      "text/plain": [
       "4324"
      ]
     },
     "execution_count": 3,
     "metadata": {},
     "output_type": "execute_result"
    }
   ],
   "source": [
    "# Royal Flushes\n",
    "rf_cases = 4 * comb(47, 2)\n",
    "rf_cases # Correct"
   ]
  },
  {
   "cell_type": "code",
   "execution_count": 4,
   "metadata": {},
   "outputs": [
    {
     "data": {
      "text/plain": [
       "37260"
      ]
     },
     "execution_count": 4,
     "metadata": {},
     "output_type": "execute_result"
    }
   ],
   "source": [
    "# Straight Flushes\n",
    "sf_cases = 9 * 4 * comb(46, 2)\n",
    "sf_cases # Correct"
   ]
  },
  {
   "cell_type": "code",
   "execution_count": 80,
   "metadata": {},
   "outputs": [
    {
     "data": {
      "text/plain": [
       "4047644"
      ]
     },
     "execution_count": 80,
     "metadata": {},
     "output_type": "execute_result"
    }
   ],
   "source": [
    "# Flushes\n",
    "fl_cases = 4 * (comb(13, 5) * comb(39, 2) + comb(13, 6) * comb(39, 1) + comb(13, 7))\n",
    "fl_cases = fl_cases - rf_cases - sf_cases\n",
    "fl_cases # Correct"
   ]
  },
  {
   "cell_type": "code",
   "execution_count": 34,
   "metadata": {},
   "outputs": [
    {
     "data": {
      "text/plain": [
       "6180020"
      ]
     },
     "execution_count": 34,
     "metadata": {},
     "output_type": "execute_result"
    }
   ],
   "source": [
    "# Straights\n",
    "st_cases = 0\n",
    "\n",
    "# Interpretation for the loop: We start from the best straight and we go down, \n",
    "# each following analysis has only one added restriction it cannot have the top \n",
    "# card from the previous straight, since then it would be the previous straight.\n",
    "# Nevertheless, the loop is simply decorative, it could also be written as: \n",
    "# 1 * best straight cases + 9 * other straight cases\n",
    "# Disclaimer: When we say random card, it means a random card that satisfies \n",
    "# the restrictions (the global restriction and of each case it's split into).\n",
    "for i in range(10):\n",
    "    # Cases with no pairs in the straight\n",
    "    # 4 suits for each straight card * 2 random cards\n",
    "    st_cases += 4**5 * comb(52 - 5*4 - 4 * min(i, 1), 2)\n",
    "    # Cases with one pair in the straight\n",
    "    # 4 suits for each straight card minus the paired one * paired card * suits for the pair * random card\n",
    "    st_cases += 4**4 * comb(5, 1) * comb(4, 2) * comb(52 - 5*4 - 4 * min(i, 1), 1)\n",
    "    # Cases with two pairs in the straight\n",
    "    # 4 suits for each straight card minus the paired ones * 2 paired cards * suits for the pairs\n",
    "    st_cases += 4**3 * comb(5, 2) * comb(4, 2)**2\n",
    "    # Cases with a three of a kind in the straight\n",
    "    # 4 suits for each straight card minus the three of a kind * three of a kind * suits for the other 2 cards\n",
    "    st_cases += 4**4 * comb(5, 1) * comb(4, 3)\n",
    "    \n",
    "# We need to remove cases with flushes\n",
    "for i in range(10):\n",
    "    # Cases with no pairs in the straight\n",
    "    st_cases -= 4 * (\n",
    "        # Preamble: All cards from the straight have the flushed suit\n",
    "        # 2 random cards (the straight is already flushed)\n",
    "        # Total flushed cards: 5 (+ 2 optional)\n",
    "        comb(52 - 5*4 - 4 * min(i, 1), 2)\n",
    "        # Preamble: 1 card from the straight does not have the flushed suit\n",
    "        # flushed extra card * random card * unflushed card * 3 suits for the unflushed card\n",
    "        # Total flushed cards: 4 + 1 (+ 1 optional)\n",
    "        + (\n",
    "            # We have to divide the cases into two, since the unflushed card it \n",
    "            # is important to discern between 2 random extra flushed cards and \n",
    "            # 1 random extra flushed card and 1 unflushed card. Otherwise, we \n",
    "            # would be counting some cases twice.\n",
    "            # Total flushed cards: 4 + 1\n",
    "            comb(13 - 5 - min(i, 1), 1) * comb(39 - 5*3 - 3 * min(i, 1), 1) * comb(5, 1) * 3\n",
    "            # Total flushed cards: 4 + 2\n",
    "            + comb(13 - 5 - min(i, 1), 2) * comb(5, 1) * 3\n",
    "        )\n",
    "        # Preamble: 2 cards from the straight do not have the flushed suit\n",
    "        # 2 flushed extra cards * 2 unflushed cards * 3 suits for the unflushed cards\n",
    "        # Total flushed cards: 3 + 2\n",
    "        + comb(13 - 5 - min(i, 1), 2) * comb(5, 2) * 3**2\n",
    "    )\n",
    "\n",
    "    \n",
    "    # Cases with one pair in the straight\n",
    "    st_cases -= 4 * (\n",
    "        # Preamble: All cards from the straight have the flushed suit\n",
    "        # random card * paired card * 3 suits for that paired card (the entire straight is flushed)\n",
    "        # Total flushed cards: 5 (+ 1 optional)\n",
    "        comb(52 - 5*4 - 4 * min(i, 1), 1) * comb(5, 1) * 3\n",
    "        # Preamble: 1 card from the straight does not have the flushed suit\n",
    "        # flushed extra card * paired card * (3 suits for the paired card * 3 suits for the unflushed card or 3 suits choose 2 [unflushed is paired])\n",
    "        # Total flushed cards: 4 + 1\n",
    "        + comb(13 - 5 - min(i, 1), 1) * comb(5, 1) * (comb(4, 1) * 3**2 + comb(3, 2)) # 4 + 1\n",
    "    )\n",
    "    \n",
    "    # Cases with two pairs in the straight\n",
    "    st_cases -= 4 * (\n",
    "        # Preamble: All cards from the straight have the flushed suit\n",
    "        # 2 paired cards * 3 suits for each paired cards\n",
    "        comb(5, 2) * 3 * 3\n",
    "    )\n",
    "    \n",
    "    # Cases with a three of a kind in the straight\n",
    "    st_cases -= 4 * (\n",
    "        # Preamble: All cards from the straight have the flushed suit\n",
    "        # 1 three of a kind * 3 chose 2 suits for the other 2 cards\n",
    "        comb(5, 1) * comb(3, 2)\n",
    "    )\n",
    "    \n",
    "st_cases # Correct"
   ]
  },
  {
   "cell_type": "code",
   "execution_count": 20,
   "metadata": {},
   "outputs": [
    {
     "data": {
      "text/plain": [
       "224848"
      ]
     },
     "execution_count": 20,
     "metadata": {},
     "output_type": "execute_result"
    }
   ],
   "source": [
    "# Poker cases\n",
    "pk_cases = 13 * comb(52 - 4, 3)\n",
    "pk_cases"
   ]
  },
  {
   "cell_type": "code",
   "execution_count": 29,
   "metadata": {},
   "outputs": [
    {
     "data": {
      "text/plain": [
       "946"
      ]
     },
     "execution_count": 29,
     "metadata": {},
     "output_type": "execute_result"
    }
   ],
   "source": [
    "comb(52 - 2*4, 2)"
   ]
  },
  {
   "cell_type": "code",
   "execution_count": 31,
   "metadata": {},
   "outputs": [
    {
     "data": {
      "text/plain": [
       "880"
      ]
     },
     "execution_count": 31,
     "metadata": {},
     "output_type": "execute_result"
    }
   ],
   "source": [
    "comb(52 - 2*4, 1) * comb(52 - 3*4, 1) // comb(2, 1)"
   ]
  },
  {
   "cell_type": "code",
   "execution_count": 38,
   "metadata": {},
   "outputs": [
    {
     "data": {
      "text/plain": [
       "3473184"
      ]
     },
     "execution_count": 38,
     "metadata": {},
     "output_type": "execute_result"
    }
   ],
   "source": [
    "# Full house cases\n",
    "fh_cases = (\n",
    "    # three of a kind * pair * 2 extra cards (not paired)\n",
    "    comb(13, 1) * comb(12, 1) * comb(4, 3) * comb(4, 2) * comb(11, 2) * 4**2\n",
    "    # three of a kind * 2 pair\n",
    "    + comb(13, 1) * comb(12, 2) * comb(4, 3) * comb(4, 2)**2\n",
    "    # two three of a kinds * extra card\n",
    "    + comb(13, 2) * comb(4, 3)**2 * comb(52 - 2*4, 1)\n",
    ")\n",
    "fh_cases # Correct"
   ]
  },
  {
   "cell_type": "code",
   "execution_count": 45,
   "metadata": {},
   "outputs": [
    {
     "data": {
      "text/plain": [
       "6461620"
      ]
     },
     "execution_count": 45,
     "metadata": {},
     "output_type": "execute_result"
    }
   ],
   "source": [
    "# Three of a kind cases\n",
    "# (5 unique numbers - straights) * three of a kind * suits for tok * suits for the rest (without forming flush)\n",
    "tok_cases = (comb(13, 5) - 10) * comb(5, 1) * comb(4, 3) * (4**4 - 3)\n",
    "tok_cases"
   ]
  },
  {
   "cell_type": "code",
   "execution_count": 47,
   "metadata": {},
   "outputs": [
    {
     "data": {
      "text/plain": [
       "113387864"
      ]
     },
     "execution_count": 47,
     "metadata": {},
     "output_type": "execute_result"
    }
   ],
   "source": [
    "accum = rf_cases + sf_cases + fl_cases + st_cases + pk_cases + fh_cases + tok_cases\n",
    "comb(52, 7) - accum"
   ]
  },
  {
   "cell_type": "code",
   "execution_count": 56,
   "metadata": {},
   "outputs": [
    {
     "data": {
      "text/plain": [
       "31433400"
      ]
     },
     "execution_count": 56,
     "metadata": {},
     "output_type": "execute_result"
    }
   ],
   "source": [
    "# Two pairs cases\n",
    "tp_cases = (\n",
    "    # Preamble: Only two pair\n",
    "    # (5 unique numbers - straights) * 2 pairs * suit combinations\n",
    "    (comb(13, 5) - 10) * comb(5, 2) * (\n",
    "        # Both pairs have the same suit\n",
    "        # 2 suits * (3 extra suits - flush cases)\n",
    "        comb(4, 2) * (4**3 - 2)\n",
    "        # 1 common suit between the pairs\n",
    "        # 2 suits * 1 suit * (3 extra suits - flush cases)\n",
    "        + comb(4, 1) * comb(4, 2) * (4**3 - 1)\n",
    "        # No common suits between the pairs (choosing for the first pair is enough to determine all suits)\n",
    "        # 2 suits * 3 extra suits \n",
    "        + comb(4, 2) * 4**3\n",
    "    )\n",
    "    # Preamble: 3 pair (no possible flushes or straights)\n",
    "    # 4 unique numbers * 3 of them are pairs * suits for the pairs * extra suit\n",
    "    + comb(13, 4) * comb(4, 3) * comb(4, 2)**3 * 4\n",
    ")\n",
    "tp_cases"
   ]
  },
  {
   "cell_type": "code",
   "execution_count": 65,
   "metadata": {},
   "outputs": [
    {
     "data": {
      "text/plain": [
       "990"
      ]
     },
     "execution_count": 65,
     "metadata": {},
     "output_type": "execute_result"
    }
   ],
   "source": [
    "(4**5 - 4 - 2 * comb(5, 4) * 3)"
   ]
  },
  {
   "cell_type": "code",
   "execution_count": 68,
   "metadata": {},
   "outputs": [
    {
     "data": {
      "text/plain": [
       "58627800"
      ]
     },
     "execution_count": 68,
     "metadata": {},
     "output_type": "execute_result"
    }
   ],
   "source": [
    "# One pair cases\n",
    "# (6 unique numbers - straights) * pair * suits for the pair * suits for the rest (without forming flush)\n",
    "pr_cases = (comb(13, 6) - (9 * 7 + 8)) * comb(6, 1) * comb(4, 2) * (\n",
    "    # All combinations - 5 flushes without pair - flushes with pair\n",
    "    4**5 - 4 - 2 * comb(5, 4) * 3\n",
    ")\n",
    "pr_cases"
   ]
  },
  {
   "cell_type": "code",
   "execution_count": 77,
   "metadata": {},
   "outputs": [
    {
     "data": {
      "text/plain": [
       "4089228"
      ]
     },
     "execution_count": 77,
     "metadata": {},
     "output_type": "execute_result"
    }
   ],
   "source": [
    "fl_cases"
   ]
  },
  {
   "cell_type": "code",
   "execution_count": 81,
   "metadata": {},
   "outputs": [
    {
     "data": {
      "text/plain": [
       "23294460"
      ]
     },
     "execution_count": 81,
     "metadata": {},
     "output_type": "execute_result"
    }
   ],
   "source": [
    "# High card cases\n",
    "hc_cases = comb(52, 7) - (rf_cases + sf_cases + fl_cases + st_cases + pk_cases + fh_cases + tok_cases + tp_cases + pr_cases)\n",
    "hc_cases # Correct"
   ]
  },
  {
   "cell_type": "code",
   "execution_count": 95,
   "metadata": {},
   "outputs": [
    {
     "data": {
      "text/plain": [
       "23294460"
      ]
     },
     "execution_count": 95,
     "metadata": {},
     "output_type": "execute_result"
    }
   ],
   "source": [
    "# Alternatively\n",
    "# (7 unique numbers - possible straights) * (all suits - flushes)\n",
    "hc_cases = (comb(13, 7) - (comb(8, 2) + 9*comb(7, 2))) * (4**7 - 4*(comb(7, 5)*3**2 + comb(7,6)*3 + comb(7,7)))\n",
    "hc_cases # Correct\n",
    "# Having a way to calculate each case separately allows us to avoid calculating one of them when we start applying them to the specific cases\n",
    "# There is also the possibility of calculating them negatively, i.e. \n",
    "# calculating all cases and then removing several hands we already calculated \n",
    "# and removing remaining invalid hands"
   ]
  }
 ],
 "metadata": {
  "kernelspec": {
   "display_name": "Python 3",
   "language": "python",
   "name": "python3"
  },
  "language_info": {
   "codemirror_mode": {
    "name": "ipython",
    "version": 3
   },
   "file_extension": ".py",
   "mimetype": "text/x-python",
   "name": "python",
   "nbconvert_exporter": "python",
   "pygments_lexer": "ipython3",
   "version": "3.12.8"
  }
 },
 "nbformat": 4,
 "nbformat_minor": 2
}
