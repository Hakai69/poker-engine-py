{
 "cells": [
  {
   "cell_type": "markdown",
   "metadata": {},
   "source": [
    "# Poker Combinatorics\n",
    "\n",
    "Since this part of the project was taking a long while we thought of documenting it."
   ]
  },
  {
   "cell_type": "markdown",
   "metadata": {},
   "source": [
    "Until we venture into calculating number of cases in different states we should get the basic initial combinatorics down, they may be used as a template for further calculations and it supposedly less complex."
   ]
  },
  {
   "cell_type": "code",
   "execution_count": 3,
   "metadata": {},
   "outputs": [],
   "source": [
    "from math import comb"
   ]
  },
  {
   "cell_type": "code",
   "execution_count": 4,
   "metadata": {},
   "outputs": [
    {
     "data": {
      "text/plain": [
       "4324"
      ]
     },
     "execution_count": 4,
     "metadata": {},
     "output_type": "execute_result"
    }
   ],
   "source": [
    "# Royal Flushes\n",
    "rf_cases = 4 * comb(47, 2)\n",
    "rf_cases # Correct"
   ]
  },
  {
   "cell_type": "code",
   "execution_count": 140,
   "metadata": {},
   "outputs": [
    {
     "data": {
      "text/plain": [
       "37260"
      ]
     },
     "execution_count": 140,
     "metadata": {},
     "output_type": "execute_result"
    }
   ],
   "source": [
    "# Straight Flushes\n",
    "sf_cases = 9 * 4 * comb(46, 2)\n",
    "sf_cases # Correct"
   ]
  },
  {
   "cell_type": "code",
   "execution_count": 6,
   "metadata": {},
   "outputs": [
    {
     "data": {
      "text/plain": [
       "4047644"
      ]
     },
     "execution_count": 6,
     "metadata": {},
     "output_type": "execute_result"
    }
   ],
   "source": [
    "# Flushes\n",
    "fl_cases = 4 * (comb(13, 5) * comb(39, 2) + comb(13, 6) * comb(39, 1) + comb(13, 7))\n",
    "fl_cases - rf_cases - sf_cases # Correct"
   ]
  },
  {
   "cell_type": "code",
   "execution_count": 135,
   "metadata": {},
   "outputs": [
    {
     "data": {
      "text/plain": [
       "6167000"
      ]
     },
     "execution_count": 135,
     "metadata": {},
     "output_type": "execute_result"
    }
   ],
   "source": [
    "# Straights\n",
    "st_cases = 0\n",
    "\n",
    "# Interpretation for the loop: We start from the best straight and we go down, \n",
    "# each following analysis has only one added restriction it cannot have the top \n",
    "# card from the previous straight, since then it would be the previous straight.\n",
    "# Nevertheless, the loop is simply decorative, it could also be written as: \n",
    "# 1 * best straight cases + 9 * other straight cases\n",
    "# Disclaimer: When we say random card, it means a random card that satisfies \n",
    "# the restrictions (the global restriction and of each case it's split into).\n",
    "for i in range(10):\n",
    "    # Cases with no pairs in the straight\n",
    "    # 4 suits for each straight card * 2 random cards\n",
    "    st_cases += 4**5 * comb(52 - 5*4 - 4 * min(i, 1), 2)\n",
    "    # Cases with one pair in the straight\n",
    "    # 4 suits for each straight card minus the paired one * paired card * suits for the pair * random card\n",
    "    st_cases += 4**4 * comb(5, 1) * comb(4, 2) * comb(52 - 5*4 - 4 * min(i, 1), 1)\n",
    "    # Cases with two pairs in the straight\n",
    "    # 4 suits for each straight card minus the paired ones * 2 paired cards * suits for the pairs\n",
    "    st_cases += 4**3 * comb(5, 2) * comb(4, 2)**2\n",
    "    # Cases with a three of a kind in the straight\n",
    "    # 4 suits for each straight card minus the three of a kind * three of a kind * suits for the other 2 cards\n",
    "    st_cases += 4**4 * comb(5, 1) * comb(4, 3)\n",
    "    \n",
    "    # 4 suits * 2 random cards (royal and flushed straights)\n",
    "    # st_cases -= 4 * comb(47 - min(i, 1), 2)\n",
    "    # If we remove that we would get all the straights without straight flushes\n",
    "    # or royal straights, but there are some cases flushes can form without \n",
    "    # forming a straight flush or royal straight.\n",
    "    # If we don't discount the flushes, we've seen the number is correct from \n",
    "    # different sources. \n",
    "    \n",
    "    # See the top answer by \"Daniel Mathias\"\n",
    "    # Requires a couple of operations to add the flushes back in and remove \n",
    "    # royal and flushed straights, but yields this number: (Also, it calculates \n",
    "    # correctly the true number of straights, but their scheme lacks any\n",
    "    # adaptability potential towards calculating it in different phases of the \n",
    "    # game, some numbers are extremely specific to the situation)\n",
    "    # https://math.stackexchange.com/questions/3084135/calculating-combinations-of-a-straight-in-texas-hold-em#:~:text=With%20no%20pair%2C%20we%20can,th%20card%20(162%20possible).\n",
    "    \n",
    "    # Original poster and comment by \"okzoomer\" both have the number we obtained\n",
    "    # They also comment on the impossibility of adjusting by a factor, since \n",
    "    # getting a straight is not independent of getting a flush (it makes it more \n",
    "    # likely due to at least 5 cards having different ranks) (it also makes it \n",
    "    # less likely due to royal and flushed straights not being considered \n",
    "    # straights, but that is easily adjustable).\n",
    "    # https://math.stackexchange.com/questions/4728513/how-do-i-calculate-the-probability-of-getting-a-5-card-straight-in-7-card-poker?newreg=6c83afc136bf43bcad3c2ab79c7a3767\n",
    "    \n",
    "    \n",
    "# We need to remove cases with flushes\n",
    "# Test cases\n",
    "# A K Q J T + +\n",
    "# 1 2 3 4 5 + +\n",
    "for i in range(10):\n",
    "    # Cases with no pairs in the straight\n",
    "    st_cases -= 4 * (\n",
    "        # Preamble: All cards from the straight have the flushed suit\n",
    "        # 2 random cards (the straight is already flushed)\n",
    "        # Total flushed cards: 5 (+ 2 optional)\n",
    "        comb(52 - 5*4 - 4 * min(i, 1), 2)\n",
    "        # Preamble: 1 card from the straight does not have the flushed suit\n",
    "        # flushed extra card * random card * unflushed card * 3 suits for the unflushed card\n",
    "        # Total flushed cards: 4 + 1 (+ 1 optional)\n",
    "        + comb(13 - 5 - min(i, 1), 1) * comb(52 - 5*4 - 4 * min(i, 1) - 1, 1) * comb(5, 1) * 3\n",
    "        # Preamble: 2 cards from the straight do not have the flushed suit\n",
    "        # 2 flushed extra cards * 2 unflushed cards * 3 suits for the unflushed cards\n",
    "        # Total flushed cards: 3 + 2\n",
    "        + comb(13 - 5 - min(i, 1), 2) * comb(5, 2) * 3**2\n",
    "    )\n",
    "    \n",
    "    # Cases with one pair in the straight\n",
    "    st_cases -= 4 * (\n",
    "        # Preamble: All cards from the straight have the flushed suit\n",
    "        # random card * paired card * 3 suits for that paired card (the entire straight is flushed)\n",
    "        # Total flushed cards: 5 (+ 1 optional)\n",
    "        comb(52 - 5*4 - 4 * min(i, 1), 1) * comb(5, 1) * 3\n",
    "        # Preamble: 1 card from the straight does not have the flushed suit\n",
    "        # flushed extra card * paired card * (3 suits for the paired card * 3 suits for the unflushed card or 3 suits choose 2 [unflushed is paired])\n",
    "        # Total flushed cards: 4 + 1\n",
    "        + comb(13 - 5 - min(i, 1), 1) * comb(5, 1) * (comb(4, 1) * 3**2 + comb(3, 2)) # 4 + 1\n",
    "    )\n",
    "    \n",
    "    # Cases with two pairs in the straight\n",
    "    st_cases -= 4 * (\n",
    "        # Preamble: All cards from the straight have the flushed suit\n",
    "        # 2 paired cards * 3 suits for each paired cards\n",
    "        comb(5, 2) * 3 * 3\n",
    "    )\n",
    "    \n",
    "    # Cases with a three of a kind in the straight\n",
    "    st_cases -= 4 * (\n",
    "        # Preamble: All cards from the straight have the flushed suit\n",
    "        # 1 three of a kind * 3 chose 2 suits for the other 2 cards\n",
    "        comb(5, 1) * comb(3, 2)\n",
    "    )\n",
    "    \n",
    "st_cases \n",
    "# It is wrong :(\n",
    "# We should get: 6180020 (source: Wikipedia and our previous sources)"
   ]
  },
  {
   "cell_type": "code",
   "execution_count": 139,
   "metadata": {},
   "outputs": [
    {
     "data": {
      "text/plain": [
       "9.732064746484946e-05"
      ]
     },
     "execution_count": 139,
     "metadata": {},
     "output_type": "execute_result"
    }
   ],
   "source": [
    "(6180020 - 6167000) / comb(52, 7) # It is a very small fraction but it could be determinant for the following phases like the river"
   ]
  },
  {
   "cell_type": "code",
   "execution_count": 141,
   "metadata": {},
   "outputs": [
    {
     "data": {
      "text/plain": [
       "0.00210678929841651"
      ]
     },
     "execution_count": 141,
     "metadata": {},
     "output_type": "execute_result"
    }
   ],
   "source": [
    "(6180020 - 6167000) / 6180020 # 2% of migdiagnozed cases might be a problem"
   ]
  },
  {
   "cell_type": "code",
   "execution_count": null,
   "metadata": {},
   "outputs": [],
   "source": [
    "# Until this problem is solved, we cannot continue with the complex equity calculator"
   ]
  }
 ],
 "metadata": {
  "kernelspec": {
   "display_name": "Python 3",
   "language": "python",
   "name": "python3"
  },
  "language_info": {
   "codemirror_mode": {
    "name": "ipython",
    "version": 3
   },
   "file_extension": ".py",
   "mimetype": "text/x-python",
   "name": "python",
   "nbconvert_exporter": "python",
   "pygments_lexer": "ipython3",
   "version": "3.12.8"
  }
 },
 "nbformat": 4,
 "nbformat_minor": 2
}
