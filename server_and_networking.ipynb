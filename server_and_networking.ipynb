{
 "cells": [
  {
   "cell_type": "markdown",
   "metadata": {},
   "source": [
    "# Server & Networking"
   ]
  },
  {
   "cell_type": "markdown",
   "metadata": {},
   "source": [
    "The idea is to create a server, where players can join, play matches between them, but mainly play against the bot we're developing.  \n",
    "\n",
    "We will need to distinguish two things:\n",
    "- User: The client that is remotely connected to the server.\n",
    "- Player: The local object used to represent the user in-game.\n",
    "\n",
    "To effectuate the communication between the user and the server we're going to establish TCP conexions via the socket library.  \n",
    "We will also develop the language with which every communication will be executed in `protocol.py`.  \n",
    "\n",
    "We will also establish a conexion between the player and the server, since the game shouldn't have to worry about networking and reaching the client.  "
   ]
  },
  {
   "cell_type": "markdown",
   "metadata": {},
   "source": [
    "Since the code is being executed asyncronously, we need to be worried about sockets being closed either locally or remotely at any given time.  \n",
    "The socket Python library does not provide a native way of detecting sockets being closed, so we will implement it:"
   ]
  },
  {
   "cell_type": "code",
   "execution_count": 1,
   "metadata": {},
   "outputs": [],
   "source": [
    "import socket\n",
    "def is_closed(s: socket.socket) -> bool:\n",
    "    '''\n",
    "    Check if a socket is closed locally or remotely. If there is remaining data \n",
    "    in the socket's buffer it will be considered open even if it is remotely \n",
    "    closed.\n",
    "    '''\n",
    "    # Locally closed check\n",
    "    if s._closed:\n",
    "        return True\n",
    "\n",
    "    # Remotely closed check\n",
    "    previous_blocking = s.getblocking()\n",
    "    s.setblocking(False)\n",
    "    try:\n",
    "        return not bool(s.recv(1, socket.MSG_PEEK))\n",
    "    except BlockingIOError:\n",
    "        return False\n",
    "    finally:\n",
    "        s.setblocking(previous_blocking)"
   ]
  },
  {
   "cell_type": "markdown",
   "metadata": {},
   "source": [
    "The client has not yet been implemented, so this is open to modifications and developments."
   ]
  }
 ],
 "metadata": {
  "kernelspec": {
   "display_name": "Python 3",
   "language": "python",
   "name": "python3"
  },
  "language_info": {
   "codemirror_mode": {
    "name": "ipython",
    "version": 3
   },
   "file_extension": ".py",
   "mimetype": "text/x-python",
   "name": "python",
   "nbconvert_exporter": "python",
   "pygments_lexer": "ipython3",
   "version": "3.12.8"
  }
 },
 "nbformat": 4,
 "nbformat_minor": 2
}
